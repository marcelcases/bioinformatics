{
 "cells": [
  {
   "cell_type": "markdown",
   "metadata": {},
   "source": [
    "# Lab 1: Quadratic-time Robinson-Foulds distance\n",
    "\n",
    "Implementation in Python of the quadratic-time algorithm for the Robinson-Foulds distance between two phylogenetic trees.\n",
    "\n",
    "## About\n",
    "\n",
    "**Course**  \n",
    "Bioinformatics and Statistical Genetics (BSG-MIRI)  \n",
    "FIB - Universitat Politècnica de Catalunya. BarcelonaTech  \n",
    "Autumn 2021  \n",
    "\n",
    "**Team**  \n",
    "* Antoni Casas\n",
    "&lt;antoni.casas.munoz@estudiantat.upc.edu&gt;\n",
    "* Marcel Cases\n",
    "&lt;marcel.cases@estudiantat.upc.edu&gt;"
   ]
  },
  {
   "cell_type": "markdown",
   "metadata": {},
   "source": [
    "## The algorithm\n",
    "\n",
    "We use `ete3` as the library for parsing phylogenetic trees from a string.  \n",
    "We use the Newick representation."
   ]
  },
  {
   "cell_type": "code",
   "execution_count": 1,
   "metadata": {},
   "outputs": [],
   "source": [
    "from ete3 import Tree\n",
    "\n",
    "# Loads a tree structure from a newick string. The returned variable ’t’ is the root node for the tree.\n",
    "t = Tree(\"(((1,2),3),4);\")\n",
    "t2 = Tree(\"(1,(2,(3,4)));\")"
   ]
  },
  {
   "cell_type": "markdown",
   "metadata": {},
   "source": [
    "The input trees that we want to use for calculating the distance with the Robinson-Foulds algorithm are the following two:"
   ]
  },
  {
   "cell_type": "code",
   "execution_count": 2,
   "metadata": {},
   "outputs": [
    {
     "name": "stdout",
     "output_type": "stream",
     "text": [
      "t: \n",
      "         /-1\n",
      "      /-|\n",
      "   /-|   \\-2\n",
      "  |  |\n",
      "--|   \\-3\n",
      "  |\n",
      "   \\-4\n",
      "t2: \n",
      "   /-1\n",
      "--|\n",
      "  |   /-2\n",
      "   \\-|\n",
      "     |   /-3\n",
      "      \\-|\n",
      "         \\-4\n"
     ]
    }
   ],
   "source": [
    "print(\"t:\", t)\n",
    "print(\"t2:\", t2)"
   ]
  },
  {
   "cell_type": "markdown",
   "metadata": {},
   "source": [
    "We build a recursive function that takes each child from the node up to the last in each branch and applies a reverse process in order to identify sets from nodes."
   ]
  },
  {
   "cell_type": "code",
   "execution_count": 3,
   "metadata": {},
   "outputs": [],
   "source": [
    "def reverseTraversal(node, resultSet):\n",
    "    currentClust = set()\n",
    "    for child in node.children:\n",
    "        leafClust = reverseTraversal(child, resultSet)\n",
    "        currentClust = currentClust.union(leafClust)\n",
    "    currentClust = currentClust.union(node.name)\n",
    "    resultSet.append(currentClust)\n",
    "    return currentClust\n",
    "        "
   ]
  },
  {
   "cell_type": "markdown",
   "metadata": {},
   "source": [
    "Once we have identified all sets in each tree, we calculate each distance."
   ]
  },
  {
   "cell_type": "code",
   "execution_count": 4,
   "metadata": {},
   "outputs": [],
   "source": [
    "sets1 = []\n",
    "reverseTraversal(t, sets1)\n",
    "sets1\n",
    "\n",
    "sets2 = []\n",
    "reverseTraversal(t2, sets2)\n",
    "sets2\n",
    "\n",
    "\n",
    "lenSets1 = len(sets1)\n",
    "lenSets2 = len(sets2)\n",
    "\n",
    "distance = 0\n",
    "\n",
    "for val in sets1:\n",
    "    contained = False\n",
    "    currentIt = 0\n",
    "    while not contained and currentIt < len(sets2):\n",
    "        auxVal = sets2[currentIt]\n",
    "        if (auxVal == val):\n",
    "            contained = True\n",
    "        currentIt = currentIt + 1\n",
    "    if (not contained):\n",
    "        distance = distance + 1\n",
    "\n",
    "for val in sets2:\n",
    "    contained = False\n",
    "    currentIt = 0\n",
    "    while not contained and currentIt < len(sets1):\n",
    "        auxVal = sets1[currentIt]\n",
    "        if (auxVal == val):\n",
    "            contained = True\n",
    "        currentIt = currentIt + 1\n",
    "    if (not contained):\n",
    "        distance = distance + 1"
   ]
  },
  {
   "cell_type": "markdown",
   "metadata": {},
   "source": [
    "Finally, the computed distance between ``t`` and ``t2`` is:"
   ]
  },
  {
   "cell_type": "code",
   "execution_count": 5,
   "metadata": {},
   "outputs": [
    {
     "data": {
      "text/plain": [
       "4"
      ]
     },
     "execution_count": 5,
     "metadata": {},
     "output_type": "execute_result"
    }
   ],
   "source": [
    "distance"
   ]
  }
 ],
 "metadata": {
  "interpreter": {
   "hash": "1a838856306331295051f1ed40c92b1b95afb6e09b46b810a95c37953a3a4ede"
  },
  "kernelspec": {
   "display_name": "Python 3.7.3 64-bit",
   "name": "python3"
  },
  "language_info": {
   "codemirror_mode": {
    "name": "ipython",
    "version": 3
   },
   "file_extension": ".py",
   "mimetype": "text/x-python",
   "name": "python",
   "nbconvert_exporter": "python",
   "pygments_lexer": "ipython3",
   "version": "3.7.3"
  }
 },
 "nbformat": 4,
 "nbformat_minor": 5
}
