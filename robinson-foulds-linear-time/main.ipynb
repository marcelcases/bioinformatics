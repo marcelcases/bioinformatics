{
 "cells": [
  {
   "cell_type": "markdown",
   "metadata": {},
   "source": [
    "# Lab 2: Linear-time Robinson-Foulds distance\n",
    "\n",
    "Implementation in Python of the linear-time algorithm for the Robinson-Foulds distance between two phylogenetic trees.\n",
    "\n",
    "## About\n",
    "\n",
    "**Course**  \n",
    "Bioinformatics and Statistical Genetics (BSG-MIRI)  \n",
    "FIB - Universitat Politècnica de Catalunya. BarcelonaTech  \n",
    "Autumn 2021  \n",
    "\n",
    "**Team**  \n",
    "* Antoni Casas\n",
    "&lt;antoni.casas.munoz@estudiantat.upc.edu&gt;\n",
    "* Marcel Cases\n",
    "&lt;marcel.cases@estudiantat.upc.edu&gt;"
   ]
  },
  {
   "cell_type": "markdown",
   "metadata": {},
   "source": [
    "## The algorithm\n",
    "\n",
    "We use `ete3` as the library for parsing phylogenetic trees from a string.  \n",
    "We use the Newick representation."
   ]
  },
  {
   "cell_type": "code",
   "execution_count": 1,
   "id": "6abe139f",
   "metadata": {},
   "outputs": [],
   "source": [
    "from ete3 import Tree\n",
    "\n",
    "# Loads a tree structure from a newick string. The returned variable ’t’ is the root node for the tree.\n",
    "t = Tree(\"((((1,2),3),4),9);\" )\n",
    "t2 = Tree(\"(8,(1,(2,(3,4))));\" )"
   ]
  },
  {
   "cell_type": "markdown",
   "metadata": {},
   "source": [
    "The input trees that we want to use for calculating the distance with the Robinson-Foulds algorithm are the following two:"
   ]
  },
  {
   "cell_type": "code",
   "execution_count": 2,
   "id": "253a6a9b",
   "metadata": {},
   "outputs": [
    {
     "name": "stdout",
     "output_type": "stream",
     "text": [
      "t: \n",
      "            /-1\n",
      "         /-|\n",
      "      /-|   \\-2\n",
      "     |  |\n",
      "   /-|   \\-3\n",
      "  |  |\n",
      "--|   \\-4\n",
      "  |\n",
      "   \\-9\n",
      "t2: \n",
      "   /-8\n",
      "--|\n",
      "  |   /-1\n",
      "   \\-|\n",
      "     |   /-2\n",
      "      \\-|\n",
      "        |   /-3\n",
      "         \\-|\n",
      "            \\-4\n"
     ]
    }
   ],
   "source": [
    "print(\"t:\", t)\n",
    "print(\"t2:\", t2)"
   ]
  },
  {
   "cell_type": "code",
   "execution_count": 3,
   "id": "6b5ff43b",
   "metadata": {},
   "outputs": [],
   "source": [
    "def reverseTraversalT1(node, resultSet,numClust):\n",
    "    numClust=numClust+1\n",
    "    if len(node.children)==0:\n",
    "        newLabel=len(translationTable)\n",
    "        translationTable[node.name]=newLabel\n",
    "        currentClust=(newLabel,newLabel)\n",
    "    else:\n",
    "        minval=10^9\n",
    "        maxval=0\n",
    "        numChildren=len(node.children)\n",
    "        for idx,child in enumerate(node.children):\n",
    "            (leafClust,numClust)=reverseTraversalT1(child,resultSet,numClust)\n",
    "            maxval=max(maxval,leafClust[1])\n",
    "            minval=min(minval,leafClust[0])\n",
    "            if (idx==numChildren-1):\n",
    "                pseudoHash[leafClust[0]]=leafClust[1]\n",
    "            else:\n",
    "                pseudoHash[leafClust[1]]=leafClust[0]\n",
    "        currentClust=(minval,maxval)\n",
    "    resultSet.append(currentClust)\n",
    "    return (currentClust,numClust)"
   ]
  },
  {
   "cell_type": "code",
   "execution_count": 4,
   "id": "a6307745",
   "metadata": {},
   "outputs": [],
   "source": [
    "def reverseTraversalT2(node, resultSet, numClust):\n",
    "    numClust=numClust+1\n",
    "    currentClust=None\n",
    "    if len(node.children)==0:\n",
    "        if (node.name in translationTable):\n",
    "            currentClust=(translationTable[node.name],translationTable[node.name],1)\n",
    "            resultSet.append(currentClust)\n",
    "            visited[translationTable[node.name]]=True\n",
    "        else:\n",
    "            visited[len(translationTable)]=False\n",
    "            currentClust=(-1000,-1000,1)\n",
    "            resultSet.append(currentClust)\n",
    "    else:\n",
    "        minval=10^9\n",
    "        maxval=0\n",
    "        elements=0\n",
    "        numChildren=len(node.children)\n",
    "        for idx,child in enumerate(node.children):\n",
    "            (leafClust,numClust)=reverseTraversalT2(child,resultSet,numClust)\n",
    "            if (leafClust is not None):\n",
    "                maxval=max(maxval,leafClust[1])\n",
    "                minval=min(minval,leafClust[0])\n",
    "                elements=elements+leafClust[2]\n",
    "                theoreticalElems=leafClust[1]-leafClust[0]\n",
    "                trueElems=leafClust[2]\n",
    "                if theoreticalElems==(trueElems-1) and theoreticalElems>0:\n",
    "                    if (idx==numChildren-1) and pseudoHash[leafClust[0]]==leafClust[1]:\n",
    "                        resultSet.append(leafClust)\n",
    "                    elif pseudoHash[leafClust[1]]==leafClust[0]:\n",
    "                        resultSet.append(leafClust)\n",
    "        currentClust=(minval,maxval,elements)\n",
    "    return (currentClust,numClust)"
   ]
  },
  {
   "cell_type": "code",
   "execution_count": 5,
   "id": "f6375907",
   "metadata": {},
   "outputs": [],
   "source": [
    "translationTable={}\n",
    "pseudoHash=[0]*len(t)\n",
    "numClust=0\n",
    "visited=[False]*len(t)+[True]\n",
    "\n",
    "auxiliar=[]\n",
    "(useless,numClust)=reverseTraversalT1(t,auxiliar,numClust)\n",
    "\n",
    "\n",
    "auxiliar2=[]\n",
    "(why,numClust)=reverseTraversalT2(t2,auxiliar2,numClust)\n",
    "\n",
    "\n",
    "trivial=1\n",
    "for elem in visited:\n",
    "    if elem==False:\n",
    "        trivial=0\n",
    "        break"
   ]
  },
  {
   "cell_type": "markdown",
   "metadata": {},
   "source": [
    "The normalised Robinson-Foulds distance is:"
   ]
  },
  {
   "cell_type": "code",
   "execution_count": 6,
   "id": "d7407b8f",
   "metadata": {},
   "outputs": [
    {
     "data": {
      "text/plain": [
       "0.3333333333333333"
      ]
     },
     "execution_count": 6,
     "metadata": {},
     "output_type": "execute_result"
    }
   ],
   "source": [
    "(numClust-(len(auxiliar2)+trivial)*2)/numClust"
   ]
  }
 ],
 "metadata": {
  "interpreter": {
   "hash": "1a838856306331295051f1ed40c92b1b95afb6e09b46b810a95c37953a3a4ede"
  },
  "kernelspec": {
   "display_name": "Python 3.7.3 64-bit",
   "name": "python3"
  },
  "language_info": {
   "codemirror_mode": {
    "name": "ipython",
    "version": 3
   },
   "file_extension": ".py",
   "mimetype": "text/x-python",
   "name": "python",
   "nbconvert_exporter": "python",
   "pygments_lexer": "ipython3",
   "version": "3.7.3"
  }
 },
 "nbformat": 4,
 "nbformat_minor": 5
}
